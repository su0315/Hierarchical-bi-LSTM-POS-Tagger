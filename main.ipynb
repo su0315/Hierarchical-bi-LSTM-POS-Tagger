{
  "nbformat": 4,
  "nbformat_minor": 0,
  "metadata": {
    "colab": {
      "provenance": [],
      "authorship_tag": "ABX9TyOmC2EkKgpuSNHhCoY0/4Cv"
    },
    "kernelspec": {
      "name": "python3",
      "display_name": "Python 3"
    },
    "language_info": {
      "name": "python"
    }
  },
  "cells": [
    {
      "cell_type": "code",
      "execution_count": null,
      "metadata": {
        "id": "xNst021NxUUo"
      },
      "outputs": [],
      "source": [
        "! git "
      ]
    }
  ]
}