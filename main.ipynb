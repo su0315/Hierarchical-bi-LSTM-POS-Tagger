{
  "nbformat": 4,
  "nbformat_minor": 0,
  "metadata": {
    "colab": {
      "provenance": [],
      "collapsed_sections": [],
      "mount_file_id": "1prcdoUugyV6JV_sTa1Wi9iipQRqU8BU1",
      "authorship_tag": "ABX9TyMCDbDtfnoySlo34EIRjELj"
    },
    "kernelspec": {
      "name": "python3",
      "display_name": "Python 3"
    },
    "language_info": {
      "name": "python"
    },
    "gpuClass": "standard"
  },
  "cells": [
    {
      "cell_type": "code",
      "source": [
        "#TODO time code"
      ],
      "metadata": {
        "id": "h0b3C58tT9Oe"
      },
      "execution_count": null,
      "outputs": []
    },
    {
      "cell_type": "code",
      "execution_count": 1,
      "metadata": {
        "id": "xNst021NxUUo"
      },
      "outputs": [],
      "source": [
        "!pip install -q polyglot\n",
        "!pip install -q conllu"
      ]
    },
    {
      "cell_type": "code",
      "source": [
        "import torch\n",
        "from torch import nn\n",
        "from torch import optim\n",
        "import numpy as np\n",
        "from polyglot.mapping import Embedding\n",
        "from conllu import parse\n",
        "from tqdm import tqdm\n",
        "from collections import Counter"
      ],
      "metadata": {
        "id": "ZoX47ks-E1WF"
      },
      "execution_count": 2,
      "outputs": []
    },
    {
      "cell_type": "code",
      "source": [
        "from google.colab import drive\n",
        "drive.mount('/content/drive')\n",
        "%cd \"/content/drive/MyDrive/DL for NLP project/\""
      ],
      "metadata": {
        "colab": {
          "base_uri": "https://localhost:8080/"
        },
        "id": "zLNhu2-IHNgx",
        "outputId": "62798551-18df-487d-82ee-9be431444fd7"
      },
      "execution_count": 3,
      "outputs": [
        {
          "output_type": "stream",
          "name": "stdout",
          "text": [
            "Drive already mounted at /content/drive; to attempt to forcibly remount, call drive.mount(\"/content/drive\", force_remount=True).\n",
            "/content/drive/MyDrive/DL for NLP project\n"
          ]
        }
      ]
    },
    {
      "cell_type": "code",
      "source": [
        "device = torch.device(\"cuda\" if torch.cuda.is_available() else \"cpu\")"
      ],
      "metadata": {
        "id": "BPWbuouYFggs"
      },
      "execution_count": 4,
      "outputs": []
    },
    {
      "cell_type": "code",
      "source": [
        "class Encoder(nn.Module):\n",
        "\n",
        "    def __init__(self, vocab_size):\n",
        "        super(Encoder, self).__init__()\n",
        "        self.embedding = nn.Embedding(num_embeddings=vocab_size, embedding_dim=100)\n",
        "        self.bilstm = nn.LSTM(input_size=100, hidden_size=100, num_layers=1, bidirectional=True)\n",
        "\n",
        "    def forward(self, chars:torch.tensor): # chars = (N_CHARS,)\n",
        "        embedded = self.embedding(chars)\n",
        "        _, (final_hidden, _) = self.bilstm(embedded.view(len(chars), 1, 100))\n",
        "        return final_hidden.view(-1) # (2*HIDDEN,)"
      ],
      "metadata": {
        "id": "dzXtjgg2IHgN"
      },
      "execution_count": 5,
      "outputs": []
    },
    {
      "cell_type": "code",
      "source": [
        "class POS_Tagger(nn.Module):\n",
        "\n",
        "    def __init__(self, model_type, embedding_matrix, c_vocab_size, b_vocab_size, freq_max, noise):\n",
        "        super(POS_Tagger, self).__init__()\n",
        "        self.model_type = model_type\n",
        "        self.embedding = nn.Embedding.from_pretrained(embedding_matrix).requires_grad_(True)\n",
        "        self.characterbased = Encoder(c_vocab_size).to(device)\n",
        "        self.bytebased = Encoder(b_vocab_size).to(device)\n",
        "        self.input_size = 0\n",
        "        if 'w' in model_type:\n",
        "            self.input_size += 64\n",
        "        if 'c' in model_type:\n",
        "            self.input_size += 200\n",
        "        if 'b' in model_type:\n",
        "            self.input_size += 200\n",
        "        self.bilstm = nn.LSTM(input_size=self.input_size, hidden_size=100, num_layers=1, bidirectional=True)\n",
        "        self.pos_tagger = nn.Linear(in_features=200, out_features=17)\n",
        "        self.freqbin = nn.Linear(in_features=200, out_features=freq_max)\n",
        "        self.noise = noise\n",
        "\n",
        "    def forward(self, tokens:torch.tensor, char_lists:list, byte_lists:list): # tokens = (N_TOKENS, 64), char_lists = List[List[int]]\n",
        "        concatted = torch.zeros((len(tokens), self.input_size), device=device) # concatted = (N_TOKENS, 264)\n",
        "        if 'w' in self.model_type:\n",
        "            embedded_words = self.embedding(tokens)\n",
        "        for i, (char_list, byte_list) in enumerate(zip(char_lists, byte_lists)):\n",
        "            embedded = torch.zeros((0))\n",
        "            if 'w' in self.model_type:\n",
        "                embedded = torch.concat((embedded, embedded_words[i]))\n",
        "            if 'c' in self.model_type:\n",
        "                embedded_characters = self.characterbased(torch.tensor(char_list, device=device))\n",
        "                embedded = torch.concat((embedded, embedded_characters))\n",
        "            if 'b' in self.model_type:\n",
        "                embedded_bytes = self.bytebased(torch.tensor(byte_list, device=device))\n",
        "                embedded = torch.concat((embedded, embedded_bytes))\n",
        "            concatted[i] = embedded\n",
        "        if self.training:\n",
        "            noise = torch.autograd.Variable(concatted.data.new(concatted.size()).normal_(0, self.noise))\n",
        "            concatted = concatted + noise\n",
        "        bilstm_out, _ = self.bilstm(concatted.view(len(tokens), 1, self.input_size))\n",
        "        pos_tags = self.pos_tagger(bilstm_out.view(len(tokens), 200))\n",
        "        freq = self.freqbin(bilstm_out.view(len(tokens), 200))\n",
        "        return pos_tags, freq"
      ],
      "metadata": {
        "id": "qdAh5E-UT69_"
      },
      "execution_count": 6,
      "outputs": []
    },
    {
      "cell_type": "code",
      "source": [
        "class LanguagePOSTagger():\n",
        "\n",
        "    def __init__(self, language, model_type= ('w', 'c'), polyglot=False, freqbin=False):\n",
        "        with open(f\"languages/{language}/{language}-ud-train.conllu\") as file:\n",
        "            self.train_data = parse(file.read())[:100]\n",
        "        with open(f\"languages/{language}/{language}-ud-dev.conllu\") as file:\n",
        "            self.dev_data = parse(file.read())[:100]\n",
        "        with open(f\"languages/{language}/{language}-ud-test.conllu\") as file:\n",
        "            self.test_data = parse(file.read())[:100]\n",
        "        self.embeds = Embedding.from_glove(f\"polyglot/{language}.polyglot.txt\")\n",
        "\n",
        "        self.n_epochs = 1\n",
        "        self.report_every = 3\n",
        "        self.learning_rate = 0.1\n",
        "        self.noise = 0.2\n",
        "\n",
        "        self.model_type = model_type\n",
        "        self.polyglot = polyglot\n",
        "        self.freqbin = freqbin\n",
        "\n",
        "    def build_indexes(self):\n",
        "        self.w2i = {}\n",
        "        self.c2i = {}\n",
        "        self.b2i = {}\n",
        "        self.l2i = {}\n",
        "        self.w2i[\"_UNK\"] = 0\n",
        "        self.c2i[\"_UNK\"] = 0\n",
        "        self.c2i[\"<w>\"] = 1\n",
        "        self.c2i[\"</w>\"] = 2\n",
        "        self.b2i[\"_UNK\"] = 0\n",
        "        self.b2i[\"<w>\"] = 1\n",
        "        self.b2i[\"</w>\"] = 2\n",
        "        self.l2i = {\"ADJ\": 0, \"ADP\": 1, \"ADV\": 2, \"AUX\": 3, \"CONJ\": 4, \"DET\": 5,\n",
        "                    \"INTJ\": 6, \"NOUN\": 7, \"NUM\": 8, \"PART\": 9, \"PRON\": 10,\n",
        "                    \"PROPN\": 11, \"PUNCT\": 12, \"SCONJ\": 13, \"SYM\": 14, \"VERB\": 15,\n",
        "                    \"X\": 16}\n",
        "        self.freqbin_dict = {}\n",
        "        tokens = []\n",
        "        for sentence in self.train_data:\n",
        "            for token in sentence:\n",
        "                if type(token['id']) != int:\n",
        "                    continue\n",
        "                word = token['form'].lower()\n",
        "                if word not in self.w2i:\n",
        "                    self.w2i[word] = len(self.w2i)\n",
        "                for character in word:\n",
        "                    if character not in self.c2i:\n",
        "                        self.c2i[character] = len(self.c2i)\n",
        "                    for byte in character.encode(\"utf-8\"):\n",
        "                        if byte not in self.b2i:\n",
        "                            self.b2i[byte] = len(self.b2i)\n",
        "                tokens.append(token['form'].lower())\n",
        "        for word, frequency in Counter(tokens).items():\n",
        "            self.freqbin_dict[word] = int(np.log(frequency))\n",
        "\n",
        "        self.embedding_matrix = torch.FloatTensor(size=(len(self.w2i), 64))\n",
        "        for word, index in self.w2i.items():\n",
        "            embedding = self.embeds.get(word.lower())\n",
        "            if self.polyglot and embedding is not None:\n",
        "                self.embedding_matrix[index] = torch.FloatTensor(embedding)\n",
        "            else:\n",
        "                self.embedding_matrix[index] = torch.rand((1,64))\n",
        "\n",
        "    def tensorize_data(self, sentence):\n",
        "        tokens_list = []\n",
        "        char_lists = []\n",
        "        byte_lists = []\n",
        "        pos_tag_list = []\n",
        "        freq_list = []\n",
        "        for token in sentence:\n",
        "            if type(token['id']) != int:\n",
        "                continue\n",
        "            word = token['form'].lower()\n",
        "            tokens_list.append(self.w2i[word] if word in self.w2i else 0)\n",
        "            char_list = [self.c2i['<w>']]\n",
        "            byte_list = [self.b2i['<w>']]\n",
        "            for char in word:\n",
        "                char_list.append(self.c2i[char] if char in self.c2i else 0)\n",
        "                for byte in char.encode('utf-8'):\n",
        "                    byte_list.append(self.b2i[byte] if byte in self.b2i else 0)\n",
        "            char_list.append(self.c2i['</w>'])\n",
        "            byte_list.append(self.b2i['</w>'])\n",
        "            char_lists.append(char_list)\n",
        "            byte_lists.append(byte_list)\n",
        "            pos_tag_list.append(self.l2i[token['upos']])\n",
        "            freq_list.append(self.freqbin_dict[word] if word in self.freqbin_dict else 0)\n",
        "        tokens = torch.LongTensor(tokens_list).to(device)\n",
        "        pos_gold = torch.LongTensor(pos_tag_list).to(device)\n",
        "        freq_gold = torch.LongTensor(freq_list).to(device)\n",
        "        return tokens, char_lists, byte_lists, pos_gold, freq_gold\n",
        "\n",
        "    def eval(self, data):\n",
        "        self.model.eval()\n",
        "        with torch.no_grad():\n",
        "            accuracy = 0\n",
        "            n_tokens = 0\n",
        "            for sentence in tqdm(data, desc=\"Evaluation\"):\n",
        "                tokens, char_lists, byte_lists, golden, _ = self.tensorize_data(sentence)\n",
        "                pred, _ = self.model(tokens, char_lists, byte_lists)\n",
        "                pred_label = torch.argmax(pred, dim=1)\n",
        "                accuracy += torch.sum(pred_label == golden)\n",
        "                n_tokens += len(tokens)\n",
        "        return accuracy/n_tokens\n",
        "\n",
        "    def train(self):\n",
        "        \n",
        "        self.model = POS_Tagger(self.model_type, self.embedding_matrix, len(self.c2i), \n",
        "                                len(self.b2i), max(self.freqbin_dict.values())+1, self.noise\n",
        "                                ).to(device)\n",
        "\n",
        "        criterion = nn.CrossEntropyLoss()\n",
        "        optimizer = optim.SGD(self.model.parameters(), lr=self.learning_rate)\n",
        "\n",
        "        for epoch in range(self.n_epochs):\n",
        "            total_loss = 0\n",
        "            self.model.train()\n",
        "            for sentence in tqdm(self.train_data, desc=\"Training  \"):\n",
        "                optimizer.zero_grad()\n",
        "                tokens, char_lists, byte_lists, pos_gold, freq_gold = self.tensorize_data(sentence)\n",
        "                pos_pred, freq_pred = self.model(tokens, char_lists, byte_lists)\n",
        "                loss = criterion(pos_pred, pos_gold)\n",
        "                if self.freqbin:\n",
        "                    loss += criterion(freq_pred, freq_gold)\n",
        "                total_loss += loss\n",
        "                loss.backward()\n",
        "                optimizer.step()\n",
        "\n",
        "            # Testing    \n",
        "            if ((epoch + 1) % self.report_every) == 0:\n",
        "                train_accuracy = self.eval(self.train_data)\n",
        "                dev_accuracy = self.eval(self.dev_data)\n",
        "                loss = total_loss/len(self.train_data)\n",
        "                print(f\"epoch: {epoch}, loss: {loss:.4f}, train acc: {train_accuracy:.4f}, dev acc: {dev_accuracy:.4f}\")\n",
        "    \n",
        "    def test(self):\n",
        "        test_accuracy = self.eval(self.test_data)\n",
        "        print(f\"\\nTest accuracy: {test_accuracy}\")\n",
        "        return test_accuracy"
      ],
      "metadata": {
        "id": "p9Q6SbOxXSx9"
      },
      "execution_count": 10,
      "outputs": []
    },
    {
      "cell_type": "code",
      "source": [
        "def model_name(model):\n",
        "    out = '+'.join(model['model_type'])\n",
        "    if model['polyglot']:\n",
        "        out += '_p'\n",
        "    if model['freqbin']:\n",
        "        out += '_f'\n",
        "    return out"
      ],
      "metadata": {
        "id": "GG2_Q3iS_bKX"
      },
      "execution_count": 11,
      "outputs": []
    },
    {
      "cell_type": "code",
      "source": [
        "models = [{'model_type': ('w'), 'polyglot': False, 'freqbin': False},\n",
        "          {'model_type': ('c'), 'polyglot': False, 'freqbin': False},\n",
        "          {'model_type': ('c', 'b'), 'polyglot': False, 'freqbin': False},\n",
        "          {'model_type': ('w', 'c'), 'polyglot': False, 'freqbin': False},\n",
        "          {'model_type': ('w', 'c'), 'polyglot': True, 'freqbin': False},\n",
        "          {'model_type': ('w', 'c'), 'polyglot': True, 'freqbin': True},\n",
        "          ]\n",
        "languages = ['ar', 'bg', 'cs', 'da', 'de', 'en', 'es', 'eu', 'fa', 'fi', 'fr',\n",
        "             'he', 'hi', 'hr', 'id', 'it', 'nl', 'no', 'pl', 'pt', 'sl', 'sv']\n",
        "results = {model_name(model): {} for model in models}\n",
        "for model in models:\n",
        "    for language in languages:\n",
        "        pos_tagger = LanguagePOSTagger(language, **model)\n",
        "        pos_tagger.build_indexes()\n",
        "        pos_tagger.train()\n",
        "        results[model_name(model)][language] = pos_tagger.test()\n",
        "        torch.save(pos_tagger.model.state_dict(), f\"models/{model_name(model)}_{language}.pt\")"
      ],
      "metadata": {
        "id": "uxW2uRQjPz8l"
      },
      "execution_count": null,
      "outputs": []
    }
  ]
}